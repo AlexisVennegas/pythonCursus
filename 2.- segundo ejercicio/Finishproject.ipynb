{
 "cells": [
  {
   "cell_type": "code",
   "execution_count": 4,
   "id": "d78d7a26",
   "metadata": {},
   "outputs": [
    {
     "ename": "ModuleNotFoundError",
     "evalue": "No module named 'pandas'",
     "output_type": "error",
     "traceback": [
      "\u001b[1;31m---------------------------------------------------------------------------\u001b[0m",
      "\u001b[1;31mModuleNotFoundError\u001b[0m                       Traceback (most recent call last)",
      "Cell \u001b[1;32mIn[4], line 1\u001b[0m\n\u001b[1;32m----> 1\u001b[0m \u001b[39mimport\u001b[39;00m \u001b[39mpandas\u001b[39;00m \u001b[39mas\u001b[39;00m \u001b[39mpd\u001b[39;00m\n\u001b[0;32m      2\u001b[0m \u001b[39mimport\u001b[39;00m \u001b[39mmatplotlib\u001b[39;00m\u001b[39m.\u001b[39;00m\u001b[39mpyplot\u001b[39;00m \u001b[39mas\u001b[39;00m \u001b[39mplt\u001b[39;00m\n\u001b[0;32m      3\u001b[0m \u001b[39mfrom\u001b[39;00m \u001b[39mmatplotlib\u001b[39;00m\u001b[39m.\u001b[39;00m\u001b[39mcm\u001b[39;00m \u001b[39mimport\u001b[39;00m viridis\n",
      "\u001b[1;31mModuleNotFoundError\u001b[0m: No module named 'pandas'"
     ]
    }
   ],
   "source": [
    "import pandas as pd\n",
    "import matplotlib.pyplot as plt\n",
    "from matplotlib.cm import viridis\n",
    "from IPython.display import FileLink\n",
    "\n",
    "# primera lectura del csv\n",
    "\n",
    "df = pd.read_csv('loan_dataset2.csv', )\n",
    "\n",
    "df"
   ]
  },
  {
   "attachments": {},
   "cell_type": "markdown",
   "id": "3785d538",
   "metadata": {},
   "source": [
    "<div style=\"text-align: center; margin-bottom: 27px; color:black;\">\n",
    "\n",
    "## > Crear un entorno\n",
    "\n",
    "</div>\n",
    "<section style=\"border-radius: 10px; padding: 20px; box-shadow: rgba(50, 50, 93, 0.25) 0px 30px 60px -12px inset, rgba(0, 0, 0, 0.3) 0px 18px 36px -18px inset; margin-bottom: 30px;\">\n",
    "\n",
    "⚫   Abrir terminal\n",
    "\n",
    "⚫   conda create --name \"nombre entorno\"\n",
    "\n",
    "⚫   conda activate \"nombre entorno\" // conda deactive \"nombre del entorno\"\n",
    "\n",
    "⚫   conda install numpy pandas Matplitlib (instalar librerias)\n",
    "\n",
    "⚫   conda info --envs\n",
    "\n",
    "⚫   jupyter notebook\n",
    "</section>\n",
    "\n",
    "<div style=\"text-align: center; margin-bottom: 27px; color:black;\">\n",
    "\n",
    "## > Abrir Un Entorno Creado Previamente\n",
    "\n",
    "</div>\n",
    "\n",
    "<section style=\"border-radius: 10px; padding: 20px; box-shadow: rgba(50, 50, 93, 0.25) 0px 30px 60px -12px inset, rgba(0, 0, 0, 0.3) 0px 18px 36px -18px inset; margin-bottom: 30px;\">\n",
    "\n",
    "⚫   conda info --envs\n",
    "\n",
    "⚫   jupyter notebook (crear o abrir un cuaderno)\n",
    "\n",
    "</section>\n",
    "        \n",
    "\n",
    "<div style=\"text-align: center; margin-bottom: 27px; color:black;\">\n",
    "\n",
    "## > Importar librerias en el archivo \n",
    "\n",
    "</div>\n",
    "\n",
    "<section style=\"border-radius: 10px; padding: 20px; box-shadow: rgba(50, 50, 93, 0.25) 0px 30px 60px -12px inset, rgba(0, 0, 0, 0.3) 0px 18px 36px -18px inset; margin-bottom: 30px;\">\n",
    "  \n",
    "⚫  En el archivo deseado \n",
    "                \n",
    "    import pandas as pd\n",
    "    import matplotlib.pyplot as plt\n",
    "    from matplotlib.cm import viridis\n",
    "    from IPython.display import FileLink\n",
    "\n",
    "</section>\n",
    "\n",
    "<div style=\"text-align: center; margin-bottom: 27px; color:black;\">\n",
    "\n",
    "## > Ejercicio\n",
    "\n",
    "</div>\n",
    "\n",
    "<section style=\"border-radius: 10px; padding: 20px; box-shadow: rgba(50, 50, 93, 0.25) 0px 30px 60px -12px inset, rgba(0, 0, 0, 0.3) 0px 18px 36px -18px inset; margin-bottom: 30px;\">\n",
    "\n",
    "\n",
    "    R: df = pd.read_csv('loan_dataset2.csv'):\n",
    "\n",
    "        Aquí se lee un archivo CSV llamado \"loan_dataset2.csv\" utilizando la función read_csv de Pandas. Los datos se almacenan en un DataFrame llamado \"df\". Un DataFrame es una estructura de datos de Pandas que se utiliza para almacenar y manipular datos tabulares.\n",
    "\n",
    "\n",
    "    R: df.head()\n",
    "\n",
    "        Esta línea imprime las primeras filas del DataFrame \"df\". Por defecto, muestra las primeras 5 filas, pero también puedes especificar un número diferente de filas como argumento dentro de los paréntesis, por ejemplo: df.head(10) mostraría las primeras 10 filas del DataFrame.\n",
    "\n",
    "        La función head() es útil para obtener una vista previa de los datos y verificar rápidamente la estructura y los valores iniciales en un DataFrame. Muestra las primeras filas, lo que puede ser especialmente útil cuando se trabaja con grandes conjuntos de datos y no se quiere imprimir todo el DataFrame completo.\n",
    "\n",
    "    R:  df.describe()\n",
    "\n",
    "        Esta línea muestra un resumen estadístico del DataFrame \"df\". Proporciona información como el recuento de datos, la media, la desviación estándar, los valores mínimo y máximo, y los percentiles de las columnas numéricas del DataFrame.\n",
    "\n",
    "        El resultado de df.describe() mostrará las siguientes estadísticas para cada columna numérica del DataFrame:\n",
    "\n",
    "        Count: el número de valores no nulos en la columna.\n",
    "        Mean: la media (promedio) de la columna.\n",
    "        Std: la desviación estándar de la columna.\n",
    "        Min: el valor mínimo de la columna.\n",
    "        25%: el percentil 25 de la columna.\n",
    "        50%: el percentil 50 (mediana) de la columna.\n",
    "        75%: el percentil 75 de la columna.\n",
    "        Max: el valor máximo de la columna.\n",
    "\n",
    "</section>"
   ]
  },
  {
   "cell_type": "code",
   "execution_count": 2,
   "id": "cc83b6ba",
   "metadata": {},
   "outputs": [
    {
     "ename": "NameError",
     "evalue": "name 'df' is not defined",
     "output_type": "error",
     "traceback": [
      "\u001b[1;31m---------------------------------------------------------------------------\u001b[0m",
      "\u001b[1;31mNameError\u001b[0m                                 Traceback (most recent call last)",
      "Cell \u001b[1;32mIn[2], line 3\u001b[0m\n\u001b[0;32m      1\u001b[0m \u001b[39m# mostrar las primeras 5 filas\u001b[39;00m\n\u001b[1;32m----> 3\u001b[0m df\u001b[39m.\u001b[39mhead()\n",
      "\u001b[1;31mNameError\u001b[0m: name 'df' is not defined"
     ]
    }
   ],
   "source": [
    "# mostrar las primeras 5 filas\n",
    "\n",
    "df.head()"
   ]
  },
  {
   "cell_type": "code",
   "execution_count": 3,
   "id": "4d826176",
   "metadata": {},
   "outputs": [
    {
     "ename": "NameError",
     "evalue": "name 'df' is not defined",
     "output_type": "error",
     "traceback": [
      "\u001b[1;31m---------------------------------------------------------------------------\u001b[0m",
      "\u001b[1;31mNameError\u001b[0m                                 Traceback (most recent call last)",
      "Cell \u001b[1;32mIn[3], line 3\u001b[0m\n\u001b[0;32m      1\u001b[0m \u001b[39m# mostrar informacion basica \u001b[39;00m\n\u001b[1;32m----> 3\u001b[0m df\u001b[39m.\u001b[39mdescribe()\n",
      "\u001b[1;31mNameError\u001b[0m: name 'df' is not defined"
     ]
    }
   ],
   "source": [
    "# mostrar informacion basica \n",
    "\n",
    "df.describe()"
   ]
  }
 ],
 "metadata": {
  "kernelspec": {
   "display_name": "Python 3 (ipykernel)",
   "language": "python",
   "name": "python3"
  },
  "language_info": {
   "codemirror_mode": {
    "name": "ipython",
    "version": 3
   },
   "file_extension": ".py",
   "mimetype": "text/x-python",
   "name": "python",
   "nbconvert_exporter": "python",
   "pygments_lexer": "ipython3",
   "version": "3.10.10"
  }
 },
 "nbformat": 4,
 "nbformat_minor": 5
}
