{
 "cells": [
  {
   "attachments": {},
   "cell_type": "markdown",
   "id": "75f832f3",
   "metadata": {},
   "source": [
    "# Subimos el nivel!!!"
   ]
  },
  {
   "attachments": {},
   "cell_type": "markdown",
   "id": "0876bb92",
   "metadata": {},
   "source": [
    "## Enhorabuena\n",
    "\n",
    "Si habéis llegado hasta aquí, sois competentes en programación en Python. Ahora toca convertirnos en expertos ;)\n",
    "\n",
    "Vamos a aprender funciones más avanzadas de Python y recursos fuertes que nos ofrece el lenguaje, y también programación orientada a objetos. Probablemente haya menos de ejercicio en este cuaderno y más de investigar que en el anterior"
   ]
  },
  {
   "attachments": {},
   "cell_type": "markdown",
   "id": "71c50cd3",
   "metadata": {},
   "source": [
    "## Características más avanzadas de las funciones\n",
    "\n",
    "Cuando definimos una función, podemos poner que algunos de los parámetros sean opcionales y también que tengan valores por defecto (en caso de que el usuario no introduzca uno diferente, tomaría el valor por defecto. \n",
    "\n",
    "Además podemos pasarles parámetros desconocidos (investigad qué es \\*args y \\*\\*kwargs en una función de python).\n",
    "\n",
    "Por último, las últimas versiones de python nos permiten definir y forzar de qué tipo debe ser un parámetro que reciba una función (por ejemplo, si tenemos una función que te da los buenos días y recibe tu nombre por parámetro, podemos especificarle a la función que el parámetro \"nombre\" debe ser de tipo string, de forma que de error si se le pasa otra cosa. Además, podemos indicarle también el tipo de la salida que devuelve. Todo esto se considera buena práctica y es importante aprenderlo."
   ]
  },
  {
   "attachments": {},
   "cell_type": "markdown",
   "id": "7bfa0b67",
   "metadata": {},
   "source": [
    "## Ejercicio 1: Funciones más avanzadas\n",
    "\n",
    "Vais a programar una función que recibe por parámetro el nombre de alguien, su edad, y el año en que estamos. Debéis especificarle a la función que el parámetro nombre tiene que ser un string, y que su valor por defecto sea \"desconocido\". El valor para la edad y el año debe estar especificado como int. La función devolverá un string saludando a la persona y diciendo su edad, por lo que debéis especificar en la función que la salida es un str"
   ]
  },
  {
   "cell_type": "code",
   "execution_count": 4,
   "id": "0bd5d138",
   "metadata": {},
   "outputs": [
    {
     "name": "stdout",
     "output_type": "stream",
     "text": [
      "1\n",
      "2\n",
      "3\n",
      "nombre => Alexis\n",
      "apellido => Venegas\n"
     ]
    }
   ],
   "source": [
    "\n",
    "## *args permite pasar un número variable de argumentos posicionales a una función. \n",
    "## el * indica que se recibirá un número variable de argumentos posicionales y se almacenarán en una tupla.\n",
    "\n",
    "\n",
    "def mi_funcion(*args):\n",
    "    for arg in args: \n",
    "        print(arg)\n",
    "\n",
    "mi_funcion(1, 2, 3)\n",
    "\n",
    "\n",
    "## **kwargs permite pasar un número variable de argumentos con nombre a una función.\n",
    "## el ** indica que se recibirá un número variable de argumentos con nombre y se almacenarán en un diccionario.\n",
    "\n",
    "def mi_funcion(**kwargs):\n",
    "    for kwarg in kwargs:\n",
    "        print(kwarg, \"=>\", kwargs[kwarg])\n",
    "\n",
    "mi_funcion(nombre=\"Alexis\", apellido=\"Venegas\")\n"
   ]
  },
  {
   "cell_type": "code",
   "execution_count": 14,
   "id": "7cc3058e",
   "metadata": {},
   "outputs": [],
   "source": [
    "from datetime import datetime\n",
    "import tkinter as tk\n",
    "\n",
    "class Errores(Exception):\n",
    "    pass\n",
    "\n",
    "def ft_isDigit(value: str) -> int:\n",
    "\n",
    "    \"\"\"funcion que verifica si el valor es un numero\"\"\"\"\"\n",
    "\n",
    "    i = 0\n",
    "    while i < len(value):\n",
    "        if value[i] >= \"0\" and value[i] <= \"9\":\n",
    "            return 1\n",
    "        i += 1\n",
    "    return 0\n",
    "\n",
    "def errorHandler(value, error) -> int:\n",
    "    \n",
    "    \"\"\"contol de errores para cada campo\"\"\"\"\"\n",
    "\n",
    "    try:\n",
    "        if type(value) == str:\n",
    "            if(ft_isDigit(value) == 1):\n",
    "                return 1\n",
    "        if type(value) == str and error == False:\n",
    "            return 1 if value is None or value == \"\" or len(value) <= 0 or type(value) != str or len(value) > 20 or value.isdigit() else 0 \n",
    "        elif type(value) == int:\n",
    "            if(error == True):\n",
    "                return 2 if value is None or value == 0 or type(value) != int or value < 0 or value > 100 else 0\n",
    "            else:\n",
    "                return 3 if value is None or value == 0 or type(value) != int or value < 0 else 0\n",
    "        else:\n",
    "            return 1\n",
    "    except Exception as e:\n",
    "        return 1\n",
    "\n",
    "def errorMan(value, error) -> int:\n",
    "\n",
    "    \"\"\"creacion de errores personalizados\"\"\"\"\"\n",
    "    try:\n",
    "        error_code = errorHandler(value, error)\n",
    "        if error_code == 1:\n",
    "            raise Errores(\"Error: el campo nombre es incorrecto\")\n",
    "        elif error_code == 2:\n",
    "            raise Errores(\"Error: el campo edad es incorrecto\")\n",
    "        elif error_code == 3:\n",
    "            raise Errores(\"Error: el campo año es incorrecto\")\n",
    "        else:\n",
    "            return \"\"  # Cambiar el valor de retorno a None cuando no hay error\n",
    "    except Errores as e:\n",
    "        return e\n",
    "\n",
    "def greetings(name: str = \"desconocido\", age: int = None, year: int = None) -> str:\n",
    "\n",
    "\n",
    "    \"\"\"Función que devuelve un saludo personalizado.\"\"\"\n",
    "    try:\n",
    "        result_name = errorMan(name, False)\n",
    "        result_age = errorMan(age, True)\n",
    "        result_year = errorMan(year, False)\n",
    "        if  result_name != \"\" or result_age != \"\" or result_year != \"\" :\n",
    "            return f\"{result_name}  \\n  {result_age} \\n {result_year}\"\n",
    "        else:\n",
    "            if year != datetime.now().year:\n",
    "                year = datetime.now().year\n",
    "            name = name.lower() # primero se convierte a minúsculas\n",
    "            name = name.strip('\"')\n",
    "            name = name.capitalize() # \n",
    "            return f\"Hola {name}, tienes {age} años y naciste en {year - age}\"\n",
    "    except Exception as e:\n",
    "        return f\"entre aqui: {e}\"\n",
    "\n",
    "def submit():\n",
    "\n",
    "    \"\"\"Función que se ejecuta cuando se presiona el botón Enviar.\"\"\"\n",
    "    name = name_entry.get()\n",
    "    age = age_entry.get()\n",
    "    year = year_entry.get()\n",
    "\n",
    "    try:\n",
    "        age = int(age)\n",
    "        year = int(year)\n",
    "        result = greetings(name, age, year) # Llamar a la función greetings con los datos ingresados por el usuario\n",
    "        result_label.config(text=result) # Mostrar el resultado de la función en la etiqueta result_label\n",
    "    except ValueError:\n",
    "        result_label.config(text=\"Error: los datos no son correctos\") # Mostrar un mensaje de error en la etiqueta result_label\n",
    "\n",
    "# Crear la ventana\n",
    "window = tk.Tk()\n",
    "window.title(\"Programa de Saludos\")\n",
    "window.geometry(\"1080x600\")\n",
    "\n",
    "# imagen \n",
    "imagen = tk.PhotoImage(file=\"../bonux/factoria-web.png\")\n",
    "fondo = tk.Label(window, image=imagen)\n",
    "fondo.place(x=0, y=0, relwidth=1, relheight=1)\n",
    "\n",
    "\n",
    "# Etiqueta y campo de entrada para el nombre\n",
    "name_label = tk.Label(window, text=\"Nombre:\")\n",
    "name_label.pack()\n",
    "name_entry = tk.Entry(window)\n",
    "name_entry.pack()\n",
    "\n",
    "\n",
    "# Etiqueta y campo de entrada para la edad\n",
    "age_label = tk.Label(window, text=\"Edad:\")\n",
    "age_label.pack()\n",
    "age_entry = tk.Entry(window)\n",
    "age_entry.pack()\n",
    "\n",
    "# Etiqueta y campo de entrada para el año actual\n",
    "year_label = tk.Label(window, text=\"Año Actual:\")\n",
    "year_label.pack()\n",
    "year_entry = tk.Entry(window)\n",
    "year_entry.pack()\n",
    "\n",
    "# Botón de enviar\n",
    "submit_button = tk.Button(window, text=\"Enviar\", command=submit)\n",
    "submit_button.pack() #\n",
    "\n",
    "# Etiqueta para mostrar el resultado\n",
    "result_label = tk.Label(window, text=\"\")\n",
    "result_label.pack()\n",
    "\n",
    "\n",
    "# Ejecutar el bucle principal de la ventana\n",
    "window.mainloop()\n"
   ]
  },
  {
   "attachments": {},
   "cell_type": "markdown",
   "id": "c4d97ee4",
   "metadata": {},
   "source": [
    "## Control de excepciones\n",
    "\n",
    "Nuestro código falla a veces, porque nos hemos equivocado o porque había una situación que no se nos había ocurrido. Pero hay otras veces que ni siquiera podemos evitarlo, por ejemplo, si el usuario mete un tipo de dato que no corresponde. En general, nuestro código va a fallar (invariablemente).\n",
    "\n",
    "Python nos da herramientas para controlar esos errores. Estoy hablándo de las cláusulas try/except/finally. Éstas nos permiten especificar a Python qué debe hacer si al ejecutar un código recibe un error. A veces querremos que el programa advierta de que algo malo ha pasado y el programa se detenga de manera controlada (por ejemplo, en vez de fallar y punto, que de un aviso de lo que ha pasado, cierre la conexión con una base de datos y entonces se detenga, o que guarde el progreso de algo que estamos haciendo antes de detenerse, etc). Habrá errores no graves que permitan que el programa siga ejecutándose, en cuyo caso puedo especificar que el programa lo deje pasar y continúe (por ejemplo si estoy procesando millones de datos en tiempo real, no quiero que si alguno de los datos que llega sea nulo el programa se detenga, sino que detecte el error, pase y siga analizando el resto de datos que no paran de llegar)\n",
    "\n",
    "Investigad como funciona esto del control de excepciones."
   ]
  },
  {
   "attachments": {},
   "cell_type": "markdown",
   "id": "c53b8f50",
   "metadata": {},
   "source": [
    "## Ejercicio 2: Control de excepciones\n",
    "\n",
    "Programad una función que reciba dos números por parámetro, divida el primero por el segundo y devuelva el resultado. Después pedid al usuario input de dos números.\n",
    "\n",
    "El programa puede fallar en varios puntos:\n",
    "\n",
    "- El usuario puede introducir un 0 en el dividendo (DivisionByZeroError)\n",
    "- El usuario puede introducir algo que no sea un número\n",
    "\n",
    "Puede que incluso haya algo más que no se me haya ocurrido. Programad un control de excepciones para que si ocurre algo que no debería pasar, el programa imprima un mensaje avisando de qué ha pasado"
   ]
  },
  {
   "cell_type": "code",
   "execution_count": 15,
   "id": "e099793e",
   "metadata": {},
   "outputs": [],
   "source": [
    "import tkinter as tk\n",
    "import re\n",
    "\n",
    "def checkNum(value: str) -> bool:\n",
    "    return bool(re.search(r'[a-zA-Z]', value))\n",
    "\n",
    "class Errores(Exception):\n",
    "    pass\n",
    "\n",
    "def calculate(num1, num2) -> float:\n",
    "    \"\"\"Función que devuelve el resultado de la división.\"\"\"\n",
    "\n",
    "    if checkNum(num1) or checkNum(num2):\n",
    "        raise Errores(\"Error: el campo nombre es incorrecto\")\n",
    "    try:\n",
    "        result = num1 / num2\n",
    "        return result\n",
    "    except Exception as e:\n",
    "        return f\"Error: {e}\"\n",
    "\n",
    "def submit():\n",
    "    \"\"\"Función que se ejecuta cuando se presiona el botón Enviar.\"\"\"\n",
    "    try:\n",
    "        num1 = float(num1_entry.get())\n",
    "        num2 = float(num2_entry.get())\n",
    "        result = calculate(num1, num2)\n",
    "        result_label.config(text=result)\n",
    "    except ValueError:\n",
    "        result_label.config(text=\"Error: los datos no son correctos\")   \n",
    "# Crear la ventana\n",
    "window = tk.Tk()\n",
    "window.title(\"Programa de División\")\n",
    "window.geometry(\"1080x700\")\n",
    "\n",
    "imagen = tk.PhotoImage(file=\"../bonux/Why-learn-Python-4-.png\")\n",
    "fondo = tk.Label(window, image=imagen)\n",
    "fondo.place(x=0, y=0, relwidth=1, relheight=1)\n",
    "\n",
    "\n",
    "\n",
    "# Etiqueta y campo de entrada para el primer número\n",
    "num1_label = tk.Label(window, text=\"Primer número:\")\n",
    "num1_label.pack()\n",
    "num1_entry = tk.Entry(window)\n",
    "num1_entry.pack()\n",
    "\n",
    "# Etiqueta y campo de entrada para el segundo número\n",
    "num2_label = tk.Label(window, text=\"Segundo número:\")\n",
    "num2_label.pack()\n",
    "num2_entry = tk.Entry(window)\n",
    "num2_entry.pack()\n",
    "\n",
    "# Botón de enviar\n",
    "submit_button = tk.Button(window, text=\"Enviar\", command=submit)\n",
    "submit_button.pack()\n",
    "\n",
    "# Etiqueta para mostrar el resultado\n",
    "\n",
    "result_label = tk.Label(window, text=\"\")\n",
    "result_label.pack()\n",
    "\n",
    "# Ejecutar el bucle principal de la ventana\n",
    "window.mainloop()\n",
    "\n"
   ]
  },
  {
   "attachments": {},
   "cell_type": "markdown",
   "id": "1bbae895",
   "metadata": {},
   "source": [
    "## List Comprehension\n",
    "\n",
    "Esto es algo muy de Python, es muy útil y es bastante eficiente. Cuando usamos un bucle for para transformar una lista, probablemente sea mejor utilizar esta opción (es más pythonico). Además admite condicionales :)"
   ]
  },
  {
   "attachments": {},
   "cell_type": "markdown",
   "id": "75dd3ca7",
   "metadata": {},
   "source": [
    "## Ejercicio 3: List Comprehension\n",
    "\n",
    "A partir de la siguiente lista de números, utilizando list comprehension, transformarla en una sola línea en otra lista con los mismo números elevados al cuadrado, pero menores que 50"
   ]
  },
  {
   "cell_type": "code",
   "execution_count": 16,
   "id": "dc8dd5c6",
   "metadata": {},
   "outputs": [
    {
     "name": "stdout",
     "output_type": "stream",
     "text": [
      "[1, 4, 9, 16, 25, 36, 49]\n"
     ]
    },
    {
     "data": {
      "text/plain": [
       "[1, 4, 9, 16, 25, 36, 49]"
      ]
     },
     "execution_count": 16,
     "metadata": {},
     "output_type": "execute_result"
    }
   ],
   "source": [
    "numeros = [1,2,3,4,5,6,7,8,9]\n",
    "numeros_cuadrados_menoresque50 = []\n",
    "\n",
    "def listComprehension() -> list:\n",
    "    for i in numeros:\n",
    "        if i**2 < 50:\n",
    "            numeros_cuadrados_menoresque50.append(i**2)\n",
    "    return numeros_cuadrados_menoresque50\n",
    "\n",
    "##a una sola linea devolviendo una nueva lista \n",
    "numeros_cuadrados_new = [i**2 for i in numeros if i**2 < 50]\n",
    "\n",
    "print(listComprehension())\n",
    "\n",
    "numeros_cuadrados_new"
   ]
  },
  {
   "attachments": {},
   "cell_type": "markdown",
   "id": "19decbc6",
   "metadata": {},
   "source": [
    "## Funciones Lambda\n",
    "\n",
    "La función anónima. Igual que las list comprehension, nos ahorra código y nos evita errores. Se usa cuando necesitamos una función muy sencilla que vamos a usar poco. Es una función que se define al mismo momento de usarla."
   ]
  },
  {
   "attachments": {},
   "cell_type": "markdown",
   "id": "59d960d1",
   "metadata": {},
   "source": [
    "## Ejercicio 4: Funciones Lambda\n",
    "\n",
    "Generar una función lambda en una variable llamada x que sume un parámetro a y un parámetro b. después usarla para sumar 14563 y 9870 e imprimir el resultado"
   ]
  },
  {
   "cell_type": "code",
   "execution_count": 17,
   "id": "2faca3a4",
   "metadata": {},
   "outputs": [],
   "source": [
    "import tkinter as tk\n",
    "import re\n",
    "\n",
    "class Errores(Exception):\n",
    "    pass\n",
    "\n",
    "\n",
    "def checkNum(value: str, numCheck: int) -> int:\n",
    "    if not isinstance(value, str) or not (re.search(r'[0-9]', value)) or value == \"\" or value is None or (re.search(r'[a-zA-Z]', value)):\n",
    "        if(numCheck == 1):\n",
    "            raise Errores(\"Error: el primer número no es correcto\")\n",
    "        else:\n",
    "            raise Errores(\"Error: el segundo número no es correcto\")\n",
    "    else:\n",
    "        return 0\n",
    "    \n",
    "def testing(a: str = \"\", b: str = \"\") -> int:\n",
    "\n",
    "    \"\"\"Función que devuelve un saludo personalizado.\"\"\"\n",
    "    try:\n",
    "        result_num1 = checkNum(a, 1)\n",
    "        result_num2 = checkNum(b, 2)\n",
    "        if result_num1 != 0 or result_num2 != 0:\n",
    "            return result_num1 or result_num2\n",
    "        else:\n",
    "            a = float(a)\n",
    "            b = float(b)\n",
    "            sum = lambda a, b : a + b\n",
    "            return sum(a,b)\n",
    "    except Exception as e:\n",
    "        return e\n",
    "    \n",
    "def submit():\n",
    "\n",
    "    \"\"\"Función que se ejecuta cuando se presiona el botón Enviar.\"\"\"\n",
    "    num1 = str(num1_entry.get())\n",
    "    num2 = str(num2_entry.get())\n",
    "    try:\n",
    "        result = testing(num1, num2)\n",
    "        result_label.config(text=result)\n",
    "    except ValueError:\n",
    "        result_label.config(text=\"Error: los datos no son correctos\")   \n",
    "# Crear la ventana\n",
    "window = tk.Tk()\n",
    "window.title(\"Lambda\")\n",
    "window.geometry(\"400x400\")\n",
    "\n",
    "# Etiqueta y campo de entrada para el primer número\n",
    "num1_label = tk.Label(window, text=\"Primer número:\")\n",
    "num1_label.pack()\n",
    "num1_entry = tk.Entry(window)\n",
    "num1_entry.pack()\n",
    "\n",
    "# Etiqueta y campo de entrada para el segundo número\n",
    "num2_label = tk.Label(window, text=\"Segundo número:\")\n",
    "num2_label.pack()\n",
    "num2_entry = tk.Entry(window)\n",
    "num2_entry.pack()\n",
    "\n",
    "# Botón de enviar\n",
    "submit_button = tk.Button(window, text=\"Enviar\", command=submit)\n",
    "submit_button.pack()\n",
    "\n",
    "# Etiqueta para mostrar el resultado\n",
    "\n",
    "result_label = tk.Label(window, text=\"\")\n",
    "result_label.pack()\n",
    "\n",
    "# Ejecutar el bucle principal de la ventana\n",
    "window.mainloop()"
   ]
  },
  {
   "attachments": {},
   "cell_type": "markdown",
   "id": "f307dfe7",
   "metadata": {},
   "source": [
    "## Generadores\n",
    "\n",
    "Nos permite programar una función que puede ser iterada con un bucle for. Como los valores se generan sobre la marcha según se van recorriendo, es muy eficiente en términos de memoria. Se declaran como una función normal, pero dentro tengo que escribir la lógica de generación y devolver los valores con la cláusula yield"
   ]
  },
  {
   "attachments": {},
   "cell_type": "markdown",
   "id": "208afa39",
   "metadata": {},
   "source": [
    "## Ejercicio 5: Generadores\n",
    "\n",
    "Elaborar un generador de números del 0 al número que se le pase por parámetro. Recorrerlo con un bucle for para imprimir los números del 1 al 20"
   ]
  },
  {
   "cell_type": "code",
   "execution_count": 76,
   "id": "a1d7a08e",
   "metadata": {},
   "outputs": [
    {
     "name": "stdout",
     "output_type": "stream",
     "text": [
      "1\n",
      "2\n",
      "3\n",
      "4\n",
      "5\n",
      "6\n",
      "7\n",
      "8\n",
      "9\n",
      "10\n",
      "11\n",
      "12\n",
      "13\n",
      "14\n",
      "15\n",
      "16\n",
      "17\n",
      "18\n",
      "19\n",
      "20\n"
     ]
    }
   ],
   "source": [
    "def generador(limit: int )-> int:\n",
    "    for num in range(1, limit + 1):\n",
    "        yield num\n",
    "\n",
    "def check():\n",
    "   for num in generador(20):\n",
    "         print(num)\n",
    "   \n",
    "check()\n",
    "\n",
    "## como primera salida empezamos por check haciendo un for que recorra el generador\n",
    "## num va tomar el primer valor de generador que es 1 y lo imprime\n",
    "## en la funcion generador empezamos por el for que va a recorrer el rango de 1 a 20\n",
    "## y va a ir devolviendo cada numero que se encuentre en el rango\n",
    "## despues entramos en yield que va a devolver el valor de num\n",
    "## check() recibe el valor de num y lo imprime\n",
    "## despues yield vuelve a llamar a for con el siguiente numero del rango\n",
    "## y asi sucesivamente hasta que se acabe el rango"
   ]
  },
  {
   "attachments": {},
   "cell_type": "markdown",
   "id": "59e0d877",
   "metadata": {},
   "source": [
    "## Función Map\n",
    "\n",
    "También existe para facilitarnos la vida. Si le pasamos un iterable y una función, aplicará esa función a cada elemento del iterable. Una sola línea, muy eficiente, muy útil."
   ]
  },
  {
   "attachments": {},
   "cell_type": "markdown",
   "id": "fe073ba2",
   "metadata": {},
   "source": [
    "## Ejercicio 6: Map\n",
    "\n",
    "Os doy la siguiente función (es lambda, ya lo controláis jejeje), que me dice si un número es par o no. Aplicadla a la lista y que me devuelva una lista de True/False dependiendo de si son pares o no. Una sola línea con la función Map ;)\n",
    "\n",
    "PD: Probablemente tendréis que cambiar el tipo de lo que la función Map devuelve. Pelead con ello ;)"
   ]
  },
  {
   "cell_type": "code",
   "execution_count": 30,
   "id": "fe41a232",
   "metadata": {},
   "outputs": [
    {
     "data": {
      "text/plain": [
       "[True, False, False, False, True, False, False, False]"
      ]
     },
     "execution_count": 30,
     "metadata": {},
     "output_type": "execute_result"
    }
   ],
   "source": [
    "f = lambda x: x%2 == 0\n",
    "lista_numeros = [4,23,157,693,2,1,17,13]\n",
    "\n",
    "\n",
    "## resullt \n",
    "list(map(f, lista_numeros)) ## castear a list para que se vea el resultado\n",
    "                            ## map aplica la funcion f a cada elemento de la lista\n",
    "                            ## y devuelve un objeto map\n",
    "\n"
   ]
  },
  {
   "attachments": {},
   "cell_type": "markdown",
   "id": "b7f48cb0",
   "metadata": {},
   "source": [
    "## Decoradores\n",
    "\n",
    "Subimos el nivel. Esto es bastante complicado de entender, pero no os agobiéis, porque no es común que tengáis que programarlos vosotros. Sí que es común que tengáis que usarlos, pero usarlos es fácil. \n",
    "\n",
    "Un decorador es una función que amplía las funcionalidades de otra función. \n",
    "\n",
    "A la hora de programar, es una función que devuelve una función. Quedáos con que a alto nivel lo que hace es darle más funcionalidades a una función que podemos crear.\n",
    "\n",
    "Para decorar una función con un decorador que ya hemos creado o que importamos de una librería, usamos una @ justo antes de la función. Investigad todo este tema, pero no os agobiéis si os cuesta, es normal."
   ]
  },
  {
   "attachments": {},
   "cell_type": "markdown",
   "id": "dec3e9ab",
   "metadata": {},
   "source": [
    "## Ejercicio 7: Decoradores\n",
    "\n",
    "Tenéis que programar un decorador que lo que haga sea imprimir 20 símbolos * antes de que se ejecute la función que decora, y otros 20 justo después. Después programad una función que reciba por parámetro un nombre propio e imprima un saludo a esa persona. Luego, otra que reciba por parámetro la edad de una persona y el año en que estamos, calcule el año de nacimiento y lo imprima informando. Decorad ambas funciones con el decorador y comprobad que funciona"
   ]
  },
  {
   "cell_type": "code",
   "execution_count": 7,
   "id": "0aec206c",
   "metadata": {},
   "outputs": [],
   "source": [
    "# En esta celda programad el decorador\n",
    "import time\n",
    "\n",
    "def symbols(funcion_parametro):\n",
    "    def funcion_interna(*args):\n",
    "        print(\"*\" * 20)\n",
    "        funcion_parametro(*args)\n",
    "        print(\"*\" * 20)\n",
    "    return funcion_interna\n"
   ]
  },
  {
   "cell_type": "code",
   "execution_count": 12,
   "id": "4f8777ea",
   "metadata": {},
   "outputs": [],
   "source": [
    "# En esta otra, programad las dos funciones decoradas\n",
    "\n",
    "\n",
    "@symbols\n",
    "def greetings(name: str) -> str:\n",
    "    \"\"\"Función que devuelve un saludo personalizado.\"\"\"\n",
    "    print(f\"Hola {name}!\")\n",
    "\n",
    "@symbols\n",
    "def calculate(age: int, year: int) -> str:\n",
    "    \"\"\"Función que calcula el año de nacimiento.\"\"\"\n",
    "    print(f\"Naciste en el año {year - age}.\")\n",
    "\n",
    "    "
   ]
  },
  {
   "cell_type": "code",
   "execution_count": 13,
   "id": "b6dcad4f",
   "metadata": {},
   "outputs": [
    {
     "name": "stdout",
     "output_type": "stream",
     "text": [
      "********************\n",
      "Hola Andres!\n",
      "********************\n",
      "********************\n",
      "Naciste en el año 1996.\n",
      "********************\n"
     ]
    }
   ],
   "source": [
    "# En esta, comprobad que funciona\n",
    "greetings(\"Andres\")\n",
    "\n",
    "calculate(25, 2021)"
   ]
  },
  {
   "attachments": {},
   "cell_type": "markdown",
   "id": "ea93eeb2",
   "metadata": {},
   "source": [
    "## Librerías y técnicas avanzadas que es conveniente tener en cuenta\n",
    "\n",
    "**logger** -> Es una librería que nos permite añadir trazabilidad a nuestros programas, importantísimo por buena praxis\n",
    "\n",
    "**Itertools** -> Es una librería que nos da herramientas muy eficientes relacionadas con iteradores\n",
    "\n",
    "**asyncIO** -> Es una librería que nos permite añadir a Python programación asíncrona, lo cual lo hace muy eficiente. Investigad que es eso de la asincronicidad en programación"
   ]
  },
  {
   "attachments": {},
   "cell_type": "markdown",
   "id": "7ead70bc",
   "metadata": {},
   "source": [
    "## Ejercicio 8: Programación asíncrona\n",
    "\n",
    "Os doy una función. Esta función es lenta, debe esperar un proceso y bloquea la ejecución de una segunda función. Esa segunda función podría ir ejecutándose mientras la primera espera. Transformad estas funciones para que funcionen de manera asíncrona y resolver el problema.\n",
    "\n",
    "Esto de la programación asíncrona está pensado para programas normales, no para cuadernos. Para que nos funcione en el cuaderno habrá que hacer una pequeña trampa. Investigad ;)"
   ]
  },
  {
   "cell_type": "code",
   "execution_count": 3,
   "id": "79f8672d",
   "metadata": {},
   "outputs": [
    {
     "name": "stdout",
     "output_type": "stream",
     "text": [
      "Empezamos la tarea 1, más lenta!!\n",
      "Finalizada la tarea 1, lenta pero segura!\n",
      "Empezamos la tarea 2, la más veloz\n",
      "Finalizada la tarea 2, ni lo viste venir!\n",
      "--- 1.000589370727539 seconds ---\n"
     ]
    }
   ],
   "source": [
    "# No toqueis esta celda, dejadla como ejemplo para luego comparar que la otra es más rápida. Programad la solución\n",
    "# en la siguiente celda\n",
    "\n",
    "import asyncio\n",
    "import time\n",
    "\n",
    "start_time = time.time()\n",
    "\n",
    "def funcion_lenta():\n",
    "    print(\"Empezamos la tarea 1, más lenta!!\")\n",
    "    time.sleep(1)\n",
    "    print(\"Finalizada la tarea 1, lenta pero segura!\")\n",
    "    \n",
    "def funcion_que_espera():\n",
    "    print(\"Empezamos la tarea 2, la más veloz\")\n",
    "    print(\"Finalizada la tarea 2, ni lo viste venir!\")\n",
    "    \n",
    "funcion_lenta()\n",
    "funcion_que_espera()\n",
    "\n",
    "print(\"--- %s seconds ---\" % (time.time() - start_time))"
   ]
  },
  {
   "cell_type": "code",
   "execution_count": 5,
   "id": "7445505d",
   "metadata": {},
   "outputs": [
    {
     "name": "stdout",
     "output_type": "stream",
     "text": [
      "--- 0.0 seconds ---\n"
     ]
    },
    {
     "name": "stdout",
     "output_type": "stream",
     "text": [
      "Empezamos la tarea 1, más lenta!!\n",
      "Empezamos la tarea 2, la más veloz\n",
      "Finalizada la tarea 2, ni lo viste venir!\n",
      "Finalizada la tarea 1, lenta pero segura!\n"
     ]
    }
   ],
   "source": [
    "import asyncio\n",
    "import time\n",
    "\n",
    "# En esta celda programad la solución\n",
    "start_time = time.time() # tiempo de inicio\n",
    "\n",
    "async def funcion_lenta(): # funcion asincrona\n",
    "    print(\"Empezamos la tarea 1, más lenta!!\") # imprime el mensaje de inicio \n",
    "    await asyncio.sleep(1) # espera 1 segundo y continua con la siguiente linea de codigo\n",
    "    print(\"Finalizada la tarea 1, lenta pero segura!\") # imprime el mensaje de finalizacion\n",
    "\n",
    "async def funcion_que_espera(): # funcion asincrona\n",
    "    print(\"Empezamos la tarea 2, la más veloz\") # imprime el mensaje de inicio \n",
    "    print(\"Finalizada la tarea 2, ni lo viste venir!\") # imprime el mensaje de finalizacion\n",
    "\n",
    "async def main(): # funcion asincrona\n",
    "    await asyncio.gather(funcion_lenta(), funcion_que_espera()) # ejecuta las dos funciones asincronas\n",
    "\n",
    "if asyncio.get_event_loop().is_running(): # si el bucle esta corriendo y no se ha parado\n",
    "    loop = asyncio.get_event_loop() # se crea un bucle\n",
    "    loop.create_task(main()) # se crea una tarea\n",
    "else:\n",
    "    asyncio.run(main()) # si el bucle no esta corriendo se ejecuta la funcion main\n",
    "\n",
    "print(\"--- %s seconds ---\" % (time.time() - start_time)) # tiempo de finalizacion\n"
   ]
  }
 ],
 "metadata": {
  "kernelspec": {
   "display_name": "Python 3 (ipykernel)",
   "language": "python",
   "name": "python3"
  },
  "language_info": {
   "codemirror_mode": {
    "name": "ipython",
    "version": 3
   },
   "file_extension": ".py",
   "mimetype": "text/x-python",
   "name": "python",
   "nbconvert_exporter": "python",
   "pygments_lexer": "ipython3",
   "version": "3.11.3"
  }
 },
 "nbformat": 4,
 "nbformat_minor": 5
}
