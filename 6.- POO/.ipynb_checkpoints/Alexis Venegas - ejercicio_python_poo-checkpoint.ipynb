{
 "cells": [
  {
   "cell_type": "markdown",
   "id": "0056d580",
   "metadata": {},
   "source": [
    "# Programación Orientada a Objetos (POO) huevos pendjeo"
   ]
  },
  {
   "cell_type": "markdown",
   "id": "d70cc38a",
   "metadata": {},
   "source": [
    "## Qué es la POO\n",
    "\n",
    "Se trata de un paradigma de programación, es decir, de la manera en la que vamos a pensar a la hora de picar un código. Claro que también tiene una sintaxis y unos elementos propios, pero sobre todo, como digo, la manera de enfocarlo.\n",
    "\n",
    "Existen otros paradigmas (programación funcional, orientada a componentes, etc), pero Python es un lenguaje muy preparado para la programación orientada a objetos (aunque no tanto como por ejemplo Java, que es exclusivamente orientado a objetos) y es lo que vamos a ver.\n",
    "\n",
    "Tenemos que empezar a entender que lo que programamos son entidades (objetos, cosas). Esos objetos tienen una serie de propiedades (atributos) y son capaces de realizar una serie de acciones (métodos).\n",
    "\n",
    "Además tenemos que distinguir, una cosa es la definición del objeto, lo que la cosa que estoy programando es (la clase) y otra diferente son las distintas cosas concretas que pertenecen a esa clase (instancias), o sea, que son de ese tipo.\n",
    "\n",
    "A la hora de la práctica, una clase se define con la cláusula class. El nombre de la clase, por convención, debe ir con la primera en mayúscula.\n",
    "\n",
    "Investigad eso. Primero:\n",
    "\n",
    "- Qué es una clase y qué una instancia, y cómo se declaran en Python\n",
    "\n",
    "Luego:\n",
    "\n",
    "- Qué es un atributo y qué es un método, y cómo se declaran en Python"
   ]
  },
  {
   "cell_type": "markdown",
   "id": "3a0fbd63",
   "metadata": {},
   "source": [
    "## POO Ejercicio 1:\n",
    "\n",
    "Programad una clase Coche. Debe tener un atributo que sea el número de ruedas que tiene, el kilometraje total y el kilometraje relativo.\n",
    "\n",
    "Además tiene que tener un método \"movimiento\", que le suma 10km al kilometraje total y al relativo, otro método que reinicia el kilometraje relativo a 0, otro que me imprime cual es el kilometraje total y otro que me imprime cuál es el kilometraje relativo.\n",
    "\n",
    "Después instanciad el objeto en una variable y utilizad el método para que se mueva. Despues el método para que os diga el kilometraje (y veis si ha aumentado). Luego, el que lo imprime. Probad tambien a reiniciar el kilometraje relativo, y en general jugad un poco con ello"
   ]
  },
  {
   "cell_type": "code",
   "execution_count": null,
   "id": "3218fdba",
   "metadata": {},
   "outputs": [],
   "source": []
  },
  {
   "cell_type": "markdown",
   "id": "f35163f0",
   "metadata": {},
   "source": [
    "## Métodos mágicos:\n",
    "\n",
    "Existen métodos de las clases que vienen ya definidas por python y que tienen comportamientos especiales (y que son necesarios). Estos métodos (se llaman métodos magicos), empiezan y acaban por una doble barra baja \\_\\_. Por ejemplo \\_\\_init\\_\\_. Este último método es especialmente importante y debéis aprender cómo funciona. Pero no es el único, por ejemplo \\_\\_str\\_\\_, \\_\\_repr\\_\\_, \\_\\_call\\_\\_, \\_\\_iter\\_\\_, \\_\\_next\\_\\_, etc. Investigad lo que se puede hacer.\n",
    "\n",
    "\\_\\_init\\_\\_ se llama al instanciar un objeto y es el constructor de dicha instancia. Por tanto es probablemente el mas usado. Nos permite pasarle parámetros a la hora de la construcción para que el objeto se inicialice bajo ciertas condiciones."
   ]
  },
  {
   "cell_type": "markdown",
   "id": "f9757961",
   "metadata": {},
   "source": [
    "## POO Ejercicio 2:\n",
    "\n",
    "Reutilizad el código anterior del coche, pero esta vez vamos a añadirle un constructor. Vamos a añadirle un nuevo atributo que sea el color y otro que sea la matrícula. A la hora de instanciar la clase, deberíamos pasarle por parámetro cuál es el color y cuál la matrícula"
   ]
  },
  {
   "cell_type": "code",
   "execution_count": null,
   "id": "e9309580",
   "metadata": {},
   "outputs": [],
   "source": []
  },
  {
   "cell_type": "markdown",
   "id": "0e568167",
   "metadata": {},
   "source": [
    "## Encapsulación\n",
    "\n",
    "A veces podemos programar a una clase atributos que no queremos que sean accesibles desde fuera de la propia clase, queremos que solo sean accedidos y modificados por métodos de la propia clase.\n",
    "\n",
    "A eso se llama encapsular, porque te da la seguridad de que un atributo no es utilizado incorrectamente. Algunos lenguajes incorporan esto y tú les indicas si quieres que un atributo sea público o privado. Python sin embargo no, todos los atributos son siempre públicos y por tanto accesibles desde fuera. Lo que la comunidad ha resuelto es una convención. Siempre que queramos que un atributo sea privado, debe empezar por doble símbolo \\_. Por ejemplo: .\\_\\_contador.\n",
    "\n",
    "Esto no aumenta la seguridad, ya que como digo, no lo hace realmente público, pero si que es un aviso para otros desarrolladores de que un atributo no se debería modificar. Además, Python le cambia el nombre internament. Si yo tengo un atributo llamado .\\_\\_contador en una clase llamada MiClase, en vez de acceder a ella como MiClase.\\_\\_contador, debería acceder como MiClase.\\_MiClase\\_\\_contador. Esto se usa también por si creamos un atributo o método que entraría en conflicto con los que vienen en Python por defecto."
   ]
  },
  {
   "cell_type": "markdown",
   "id": "53a80044",
   "metadata": {},
   "source": [
    "## POO Ejercicio 3:\n",
    "\n",
    "Programad una clase \"LogIn\" que al instanciarse te pida un nombre de usuario, una contraseña y un correo electrónico. El atributo de la contraseña debe ser privado una vez generado. Programad un atributo \"get_password\" que nos muestre la contraseña, pero hasheada (investigad qué es esto y cómo se hace en python), y otro método que me permita cambiar la contraseña"
   ]
  },
  {
   "cell_type": "code",
   "execution_count": null,
   "id": "73c0bad0",
   "metadata": {},
   "outputs": [],
   "source": []
  },
  {
   "cell_type": "markdown",
   "id": "042a53fc",
   "metadata": {},
   "source": [
    "## Herencia\n",
    "\n",
    "Empezamos con las cosas que hace que este tipo de programación sea potente.\n",
    "\n",
    "A veces, y como sucede en la vida real, una clase puede pertenecer a una clase superior y compartir características con el resto de clases que también pertenecen a esa clase superior. Por ejemplo, aunque una moto y un coche son diferentes en que uno tiene 2 ruedas y el otro 2, ambos son vehículos, y como ambos son vehículos los dos se desplazan, los dos tienen un depósito de gasolina, los dos tienen un kilometraje, etc.\n",
    "\n",
    "Si quisiera programar una clase coche y una clase moto, tendría que repetir el mismo código y eso no es bueno. Imaginad que en vez de solo moto y coche quiero programar 20 tipos de vehículos, tendría que repetir el mismo código 20 veces. Eso aumenta las posibilidades de que en alguna clase me equivoque, y luego es difícil de detectar porque solo me enteraría al instanciar ese vehículo, y después tendría que revisar todo el código en busca del problema. Pero además imaginad que quiero hacer un cambio en la lógica de cómo se calcula la gasolina que queda en el depósito, tendría que repetir el cambio en cada vehículo.\n",
    "\n",
    "LA solución es la herencia. Yo puedo programar una clase Vehículo que incorpore lo que por defecto incorporan los vehículos. Después puedo indicar que la clase Coche heredaría de vehículo y tendría todo lo que tiene vehículo además de todo lo que le programe a Coche, y así con todos los tipos de vehículo que quiera programar. Si quiero hacer un cambio en por ejemplo la manera en que se calcula el kilometraje, lo cambio en la clase Vehículo y el cambio se propaga a los hijos sin que tenga que hacer nada más. El código se reduce y es mas limpio, mas legible y más mantenible."
   ]
  },
  {
   "cell_type": "code",
   "execution_count": null,
   "id": "e7cc78a8",
   "metadata": {},
   "outputs": [],
   "source": []
  },
  {
   "cell_type": "markdown",
   "id": "09369611",
   "metadata": {},
   "source": [
    "## POO Ejercicio 4:\n",
    "\n",
    "Sois desarrolladores del nuevo juego de Pokémon. Hay 902 Pokémons actualmente (imagináos programar cada uno xD)\n",
    "\n",
    "De todas formas vamos a empezar desde 0. Tenéis que programar a Squirtle, Totodile, Mudkip (los tres, tipo agua), Charmander, Cyndaquil, Torchic (los tres, tipo fuego), Bulbasaur, Chikorita y Treecko (los tres tipo planta).\n",
    "\n",
    "Tendréis que programar primero una clase Pokemon. Todos los pokemon pueden atacar, tienen puntos de vida, pueden defenderse y tienen una lista de ataques. Todos conocen el ataque \"arañazo\". Tienen debilidades a algunos tipos y fortalezas contra otros tipos. Los Pokemon tipo planta saben el ataque \"látigo cepa\", son fuertes contra el agua y débiles contra el fuego (hacen el doble de daño al agua y la mitad al fuego, y viceversa, reciben el doble de daño por fuego y la mitad por agua). Los tipo fuego saben \"lanzallamas\", son débiles contra el agua pero fuertes contra tipo planta. Por último, los tipo agua saben el ataque \"pistola agua\", son fuertes contra fuego, pero débiles contra planta. Suena a muchísimo, pero con POO se simplifica muchísimo, si lo usáis correctamente ;)\n",
    "\n",
    "Pista: Las herencias se pueden dar por niveles"
   ]
  },
  {
   "cell_type": "code",
   "execution_count": null,
   "id": "8ca71ed0",
   "metadata": {},
   "outputs": [],
   "source": []
  },
  {
   "cell_type": "markdown",
   "id": "943e5ecb",
   "metadata": {},
   "source": [
    "## Polimorfismo\n",
    "\n",
    "Esto es un poco abstracto de explicar, pero veréis que en aplicación es una chorrada.\n",
    "\n",
    "Cuando yo programo una función, si la llamo \"hacer_algo()\", entonces no puedo volver a crear ninguna otra función que se llame igual, porque sobreescribiría la primera (incluso si no, no es práctico). Probemos, ejecutad este código:"
   ]
  },
  {
   "cell_type": "code",
   "execution_count": 2,
   "id": "308384e6",
   "metadata": {},
   "outputs": [
    {
     "name": "stdout",
     "output_type": "stream",
     "text": [
      "segunda funcion\n"
     ]
    }
   ],
   "source": [
    "def hacer_algo():\n",
    "    print(\"primera funcion\")\n",
    "    \n",
    "def hacer_algo():\n",
    "    print(\"segunda funcion\")\n",
    "    \n",
    "hacer_algo()"
   ]
  },
  {
   "cell_type": "markdown",
   "id": "c54f539b",
   "metadata": {},
   "source": [
    "Pasa igual con variables. Si creo otra variable con el mismo nombre, se sobreescribe. Esto puede ser un problema a veces, pero se soluciona con polimorfismo.\n",
    "\n",
    "Dentro del contexto de una clase, cada método tiene que tener un nombre diferente, para que no se pisen (eso es igual), pero como cada método pertenece a una clase, dos clases diferentes si que pueden tener métodos con el mismo nombre. Después, puedo llamar a esos métodos de manera genérica, sin saber exactamente a cuál de las posibles clases pertenece el objeto. Esto es porque dos cosas pueden hacer la misma acción pero de distinta manera o con diferente resultado. Investigad sobre ello, veréis que es más sencillo de lo que parece."
   ]
  },
  {
   "cell_type": "markdown",
   "id": "5e26404b",
   "metadata": {},
   "source": [
    "## POO Ejercicio 5:\n",
    "\n",
    "Programad una clase Vaca que tenga un método .cantar(). Cuando lo llamo, la vaca dirá \"Muuu!\". Ahora igual pero con perro, y en vez de \"Muuu\", dirá \"Guau!\". Ahora un gato que al llamar a .cantar(), diga \"Miau!\", un cerdo que diga \"Oink!\" y un pájaro que diga \"Pío\".\n",
    "\n",
    "Después instanciad cada animal en una variable, instanciad algunos animales repetidos. Con un bucle for, recorred esa lista de animales y hacedlos cantar :)"
   ]
  },
  {
   "cell_type": "code",
   "execution_count": null,
   "id": "c10de78f",
   "metadata": {},
   "outputs": [],
   "source": []
  }
 ],
 "metadata": {
  "kernelspec": {
   "display_name": "Python 3 (ipykernel)",
   "language": "python",
   "name": "python3"
  },
  "language_info": {
   "codemirror_mode": {
    "name": "ipython",
    "version": 3
   },
   "file_extension": ".py",
   "mimetype": "text/x-python",
   "name": "python",
   "nbconvert_exporter": "python",
   "pygments_lexer": "ipython3",
   "version": "3.11.3"
  }
 },
 "nbformat": 4,
 "nbformat_minor": 5
}
