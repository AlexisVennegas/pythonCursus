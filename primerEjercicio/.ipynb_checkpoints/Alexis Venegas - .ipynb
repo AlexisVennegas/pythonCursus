{
 "cells": [
  {
   "attachments": {},
   "cell_type": "markdown",
   "id": "d4e025a0",
   "metadata": {},
   "source": [
    "# Aprendemos Python Básico!!"
   ]
  },
  {
   "attachments": {},
   "cell_type": "markdown",
   "id": "99241057",
   "metadata": {},
   "source": [
    "## Bienvenidxs a Jupyter!!\n",
    "\n",
    "Dedicándonos a la ciencia de datos, este entorno que tenemos para programar será un lugar común bastante habitual (aunque no el único).\n",
    "\n",
    "Jupyter (**JU**lia, **PYT**hon, **R**) es un entorno de programación dedicado a esos lenguajes y pensado para análisis de datos. Nos permite programar en celdas, que se pueden ejecutar de forma independiente, en vez de todo el programa de una. Debajo de cada celda, podemos ver el resultado de la ejecución. Así mismo, cada celda puede ser de uno de los diferentes lenguajes (Julia, R o Python) siempre que tengamos el kernel correspondiente (la extensión) instalada, o puede ser de Markdown.\n",
    "\n",
    "Markdown es un lenguaje que sirve para anotaciones (es en lo que está escrito este texto :D). Funciona como HTML pero simplificado y es muy cómodo de usar. La idea es que estamos haciendo ciencia (de datos, concretamente) y este es nuestro cuaderno de campo. No sólo hacemos experimentos, sino que los anotamos. Es decir, antes de escribir el código para dibujar una gráfica, añado una celda de anotación anunciando qué voy a hacer y por qué, qué resultado espero o qué quiero comprobar o qué pienso que va a ocurrir. Después una celda con el código, que al ejecutarse me devolverá la gráfica, y después otra celda de Markdown comentando las conclusiones. Esa es la buena práctica, porque si no, otra persona que lea mi cuaderno no entenderá nada, o yo mismo si ya han pasado un par de semanas es habitual no recordar por qué lancé tal o cual código.\n",
    "\n",
    "Información sobre Markdown: https://markdown.es/"
   ]
  },
  {
   "attachments": {},
   "cell_type": "markdown",
   "id": "00e56613",
   "metadata": {},
   "source": [
    "## Ejercicio 1: Markdown\n",
    "\n",
    "Añadid una celda de código en Markdown con vuestro nombre como título, \"Ejercicios Python como subtítulo\", qué os motiva a aprender IA y una lista con las cosas que esperáis aprender"
   ]
  },
  {
   "attachments": {},
   "cell_type": "markdown",
   "id": "661f2d4e",
   "metadata": {},
   "source": [
    "<h1>Erick Alexis Venegas Gonzalez</h1>\n",
    "<h2>Ejercicios Python\"</h2>\n",
    "<h3>ganar dinero</h3>\n",
    "<ul>\n",
    "    <li>IA</li>\n",
    "    <li>redes reuronales</li>\n",
    "    <li>analizar datos</li>\n",
    "</ul>"
   ]
  },
  {
   "attachments": {},
   "cell_type": "markdown",
   "id": "bcf87888",
   "metadata": {},
   "source": [
    "## Variables y tipos\n",
    "\n",
    "Un programa no deja de ser un conjunto de instrucciones que reciben datos como entrada y los manipulan para dar otros datos como salida.\n",
    "\n",
    "Los datos son importantes. Un aspecto clave es que los datos de entrada no siempre los conocemos, o algunos parámetros de la ejecución de un programa pueden cambiar, es decir, son **variables**.\n",
    "\n",
    "Prácticamente cualquier lenguaje de programación nos permite definir datos con los que podemos operar pero son variables. Es más, es buena práctica nunca manejar el dato en sí, sino una variable en la que esté guardado y cuya definición sea clara (y muchas veces al comienzo del documento, como buena práctica, o en un archivo separado de variables).\n",
    "\n",
    "Para definir una variable, sencillamente escribimos un nombre y usamos el operador \"=\" para darle un valor.\n",
    "\n",
    "**Buenas prácticas:** por convención, el nombre debe empezar siempre por una letra (no número) y que ésta sea minúscula. El nombre tiene que ser lo más sencillo y descriptivo posible (si estoy trabajando con frutas, utilizar como nombre \"fruta\" en vez de \"var1\"). Los nombres deben ser lo más diferenciados posibles para no confundirlos (si tengo por un lado una furta individual y el total de frutas vendidas, en vez de llamarlo \"fruta\" y \"frutas\", llamarlo \"fruta\" y \"frutas_vendidas\". Por último, aunque en los ejemplos yo no lo he estado haciendo, es preferible que sean en inglés (\"fruit\", \"sold_fruits\")\n",
    "\n",
    "Así mismo, los datos pueden ser de diferentes tipos. El tipo del dato nos permitirá hacer unas cosas u otras con él"
   ]
  },
  {
   "attachments": {},
   "cell_type": "markdown",
   "id": "bc41a365",
   "metadata": {},
   "source": [
    "## Ejercicio 2: Variables y tipos\n",
    "\n",
    "- Definir una variable de cada tipo posible (o más común) en Python (string, integer, float, list, tuple, dictionary, boolean)\n",
    "- Investigar qué es cada una, qué permite y qué no y qué posibles métodos podemos usar con ellas\n",
    "- Imprimir el tipo de cada variable definida y comprobar que es correcto\n",
    "- Ponerlo en común con la clase :)\n",
    "- Anotar lo que consideramos importante\n"
   ]
  },
  {
   "cell_type": "code",
   "execution_count": 52,
   "id": "3bec2670",
   "metadata": {},
   "outputs": [
    {
     "name": "stdout",
     "output_type": "stream",
     "text": [
      "Alexis\n",
      "<class 'int'>\n",
      "21.9\n",
      "['apple', 'limon', 'pineapple']\n",
      "('apple', 'limon', 'pineapple')\n",
      "{'name': 'Alexis', 'age': 21, 'career': 'informatic', True: 'verdadero'}\n",
      "True\n"
     ]
    }
   ],
   "source": [
    "#var type name\n",
    "name = \"Alexis\"\n",
    "\n",
    "#var type int\n",
    "age = 21\n",
    "\n",
    "#var type float\n",
    "decimal = 21.9\n",
    "\n",
    "#var type array // obj\n",
    "fruits = [\"apple\", \"limon\", \"pineapple\"]\n",
    "\n",
    "#var type tuple inmutable\n",
    "exampleTuplas = (\"apple\", \"limon\", \"pineapple\")\n",
    "\n",
    "#var type dictionary\n",
    "dictionaryStudens = {\n",
    "    'name': 'Alexis',\n",
    "    'age' : 21,\n",
    "    'career': 'informatic',\n",
    "    True: 'verdadero'\n",
    "}\n",
    "\n",
    "#var type boolean\n",
    "mayorEdad = True\n",
    "\n",
    "## print var\n",
    "\n",
    "\n",
    "print(name)\n",
    "print(type(age))\n",
    "print(decimal)\n",
    "print(fruits)\n",
    "print(exampleTuplas)\n",
    "print(dictionaryStudens)\n",
    "print(mayorEdad)\n",
    "    "
   ]
  },
  {
   "attachments": {},
   "cell_type": "markdown",
   "id": "4084ad0b",
   "metadata": {},
   "source": [
    "## Operadores\n",
    "\n",
    "Como seguramente habréis visto, una vez tenemos datos, podemos hacer operaciones con ellos (obviamente), puesto que necesitaremos transformarlos.\n",
    "\n",
    "Podemos clasificar los operadores en tres tipos, matemáticos, comparadores, lógicos, de identidad y de membresía.\n",
    "\n",
    "Algunos nos devolverán un dato transformado (y dependiendo del tipo de dato). Otros nos devolverán un booleano (True o False) y servirán para cosas diferentes."
   ]
  },
  {
   "attachments": {},
   "cell_type": "markdown",
   "id": "7c79394f",
   "metadata": {},
   "source": [
    "## Ejercicio 3: Operadores\n",
    "\n",
    "Investigad la lista de operadores y listadlos. Pensad usos que podríais darle. Jugad con ellos (¿qué pasa si sumo strings? ¿Qué pasa si multiplico un string por un integer? ¿Qué pasa si divido por 0? ¿Puedo guardar el resultado de una operación en una variable e imprimirla?)\n",
    "\n",
    "Se trata de hacer ciencia, o sea que experimentad. Después, ponemos en común lo aprendido y lo anotamos"
   ]
  },
  {
   "cell_type": "code",
   "execution_count": 33,
   "id": "4984b9c2",
   "metadata": {},
   "outputs": [
    {
     "ename": "SyntaxError",
     "evalue": "invalid syntax (2743683477.py, line 48)",
     "output_type": "error",
     "traceback": [
      "\u001b[1;36m  Cell \u001b[1;32mIn[33], line 48\u001b[1;36m\u001b[0m\n\u001b[1;33m    if num >= 1 && num <= 20:\u001b[0m\n\u001b[1;37m                 ^\u001b[0m\n\u001b[1;31mSyntaxError\u001b[0m\u001b[1;31m:\u001b[0m invalid syntax\n"
     ]
    }
   ],
   "source": [
    "num1 = 10\n",
    "num2 = 20\n",
    "\n",
    "\n",
    "# sum\n",
    "print(\"suma\" + str(num1 + num2))\n",
    "\n",
    "# rest\n",
    "print(\"resta\" + str(num1 - num2))\n",
    "\n",
    "# mult\n",
    "print(\"mult\" + str(num1 * num2))\n",
    "\n",
    "# div\n",
    "print(\"div\" + str(num1 / num2))\n",
    "\n",
    "# mod\n",
    "print(\"mod\" + str(num1 % num2))\n",
    "\n",
    "# pot\n",
    "print(\"pot\" + str(num1 ** num2))\n",
    "\n",
    "# floor div\n",
    "print(\"floor div\" + str(num1 // num2))\n",
    "\n",
    "# comparaciones\n",
    "\n",
    "# igual\n",
    "print(\"igual\" + str(num1 == num2))\n",
    "\n",
    "# diferente\n",
    "print(\"diferente\" + str(num1 != num2))\n",
    "\n",
    "# mayor que\n",
    "\n",
    "print(\"mayor que\" + str(num1 > num2))\n",
    "\n",
    "# comparacion logics\n",
    "\n",
    "# and\n",
    "print(\"and\" + str(num1 > num2 and num1 == num2))\n",
    "\n",
    "# or\n",
    "\n",
    "print(\"or\" + str(num1 > num2 or num1 == num2))\n",
    "\n",
    "# not\n",
    "\n",
    "print(\"not\" + str(not(num1 > num2 or num1 == num2)))\n",
    "\n",
    "# if\n",
    "\n",
    "if num1 > num2:\n",
    "    print(\"num1 es mayor que num2\")\n",
    "elif num1 == num2:\n",
    "    print(\"num1 es igual que num2\")\n",
    "else:\n",
    "    print(\"num1 es menor que num2\")\n",
    "\n",
    "# for\n",
    "\n",
    "for fruit in fruits:\n",
    "    print(fruit)\n",
    "\n",
    "# while\n",
    "\n",
    "while num1 < num2:\n",
    "    print(num1)\n",
    "    num1 += 1\n"
   ]
  },
  {
   "attachments": {},
   "cell_type": "markdown",
   "id": "e5e4855e",
   "metadata": {},
   "source": [
    "## Condicionales\n",
    "\n",
    "Probablemente, querremos que nuestro programa haga una cosa u otra en función de si una variable contiene un valor u otro. Esto es lo que le da juego a un programa y lo hace parecer inteligente (no sólo una calculadora).\n",
    "\n",
    "Por ejemplo, podemos tener un programa que todas las mañanas compruebe el stock de un almacén de azulejos. Si tengo en stock menos de un 20% del total, el programa puede hacer un pedido automáticamente. Pero si está por encima, no quiero que haga nada.\n",
    "\n",
    "Esto se puede complicar. Porque si es menos del 20% pero es un 0% es probable que haya un problema (en un día se están gastando más azulejos de los que da tiempo a reponer), entonces en ese caso especial puedo querer que el programa lance una alerta. Además si en dos días consecutivos el almacén no baja del mismo número de azulejos y además esos días no son fines de semana significa que no se está trabajando y eso es otro problema que requerirá de otra acción diferente.\n",
    "\n",
    "Estos temas pueden complicarse ad infinitum.\n",
    "\n",
    "Desde siempre en Python hemos contado con las cláusulas if/elif/else. Debéis investigar sobre ellas.\n",
    "\n",
    "En últimas versiones (desde 3.10), contamos con un switch case (que quizá os suene de otros lenguajes) con las cláusulas match/case, que es mucho más eficiente (algo clave cuando nos dedicamos a los datos). Investigad sobre ello también."
   ]
  },
  {
   "attachments": {},
   "cell_type": "markdown",
   "id": "a555e1ef",
   "metadata": {},
   "source": [
    "## Ejercicio 4: Condicionales\n",
    "\n",
    "Escribid el código de un programa para la puerta de un teatro que pregunte al usuario cuál es su edad. Si el usuario es menor de 10 años, no podrá entrar. Si es menor de 18, podrá entrar pero acompañado de un adulto. Si es mayor de 18 podrá entrar sin problema. El programa debe imprimir un mensaje diciendo si puede entrar o si tiene que ir acompañado.\n",
    "\n",
    "Por darle una vuelta más, podéis comprobar algunas cosas. Por ejemplo, no es razonable que una persona menor de 3 años rellene el formulario, así que será un error o alguien intentando engañar. Si es menos que 0, más de lo mismo. Tampoco parece razonable que lo rellene alguien mayor de 100 años, por ejemplo. ¿Qué pasa si el usuario introduce algo que no es un número? o con decimales.\n",
    "\n",
    "Al acabar, lo ponemos en común y anotamos lo que hemos aprendido."
   ]
  },
  {
   "cell_type": "code",
   "execution_count": null,
   "id": "c0d80dd3",
   "metadata": {},
   "outputs": [
    {
     "data": {
      "text/plain": [
       "'no puedes entrar :('"
      ]
     },
     "execution_count": 115,
     "metadata": {},
     "output_type": "execute_result"
    }
   ],
   "source": [
    "## function check age \n",
    "def check(age):\n",
    "    if not isinstance(age, int):\n",
    "        return(1)\n",
    "    if age < 6 or age < 0 or age >= 100:\n",
    "        return(1)\n",
    "    return(0)\n",
    "\n",
    "\n",
    "## function evaluation\n",
    "def teatro(age):\n",
    "    \n",
    "    if(check(age) == 1):\n",
    "        return(\"Error\")\n",
    "    \n",
    "    if(age >= 10 and age < 18):\n",
    "        return(\"entrar acompañado\")\n",
    "    elif(age < 10):\n",
    "        return(\"no puedes entrar :(\")\n",
    "    return(\"puedes entrar\")\n",
    "\n",
    "teatro(\"9\")\n",
    "    "
   ]
  },
  {
   "attachments": {},
   "cell_type": "markdown",
   "id": "e4691d36",
   "metadata": {},
   "source": [
    "## Bucles\n",
    "\n",
    "Habitualmente necesitaremos ejecutar una misma tarea de manera repetida.\n",
    "\n",
    "Es importante entender que pueden darse dos situaciones:\n",
    "\n",
    "1. Necesito que una tarea se repita hasta que se cumpla una condición\n",
    "2. Necesito que una tarea se repita para cada elemento de una lista/tupla/diccionario/set\n",
    "\n",
    "En el primero de los casos, lo que necesito es un bucle while. Este evaluará una cláusula. Mientras esa cláusula se evalúe como True, el código seguirá repitiéndose.\n",
    "\n",
    "En el segundo, necesito un bucle for. Este bucle recorrerá el elemento que le pasemos y por cada vuelta guardará ese valor en una variable que puede ser manipulada dentro del propio bucle (es el más complicado de entender, pero el más común, así que detenéos el tiempo que sea necesario para entenderlo)"
   ]
  },
  {
   "attachments": {},
   "cell_type": "markdown",
   "id": "ff2dd527",
   "metadata": {},
   "source": [
    "## Ejercicio 5: Bucles\n",
    "\n",
    "Generad una lista de 10 números diferentes. Con un bucle, comprobad si el número es par o impar. Imprimid si es par o impar, y si es impar, multiplicadlo por dos para que sea par. Al final tiene que quedar una lista solo con números pares.\n",
    "\n",
    "Después cread una variable para la que su valor sea 0. Con un bucle, id añadiéndole 1 e imprimiendo el nuevo valor. El bucle debería parar cuando la variable valga 16"
   ]
  },
  {
   "cell_type": "code",
   "execution_count": 15,
   "id": "3bdd0978",
   "metadata": {},
   "outputs": [
    {
     "name": "stdout",
     "output_type": "stream",
     "text": [
      "1: impar  // convert : 2\n",
      "2: par\n",
      "3: impar  // convert : 6\n",
      "4: par\n",
      "5: impar  // convert : 10\n",
      "6: par\n",
      "7: impar  // convert : 14\n",
      "8: par\n",
      "9: impar  // convert : 18\n",
      "10: par\n",
      "\n",
      "\n",
      "1\n",
      "2\n",
      "3\n",
      "4\n",
      "5\n",
      "6\n",
      "7\n",
      "8\n",
      "9\n",
      "10\n",
      "11\n",
      "12\n",
      "13\n",
      "14\n",
      "15\n",
      "16\n"
     ]
    }
   ],
   "source": [
    "## while\n",
    "\n",
    "i = 0             # iniciamos una variable de tipo entera con un valor de 0 \n",
    "while i < 10:     # el tope para que termina el bucle es 10\n",
    "    i += 1        # incrementamos i en cada interacion\n",
    "    if i % 2 != 0:    # se pregunta si el modulo de esa i es distinto de 0 \n",
    "        print(str(i) +':' + \" impar\" + \"  // convert : \" + str(i * 2)) # se imprime impar + convert a par \n",
    "    elif i % 2 == 0:    # se pregunta si el modulo de esa i es igual a 0 \n",
    "        print(str(i) + ':' + \" par\")   # se imprime par \n",
    "        \n",
    "print(\"\\n\")  \n",
    "        \n",
    "j = 0\n",
    "while j < 16:\n",
    "    j += 1\n",
    "    print(j)"
   ]
  },
  {
   "attachments": {},
   "cell_type": "markdown",
   "id": "1b47d11f",
   "metadata": {},
   "source": [
    "## Funciones\n",
    "\n",
    "A veces, os daréis cuenta de que en distintas partes del código necesitáis hacer las mismas acciones. Programar la misma acción las veces que sean necesarias es lento, poco eficiente, difícil de mantener y propenso a errores.\n",
    "\n",
    "Es mejor encapsular el código en algo que pueda ser reutilizado. Eso son las funciones. Puedo definir una función, indicarle qué datos debe recibir, manipular esos datos en su interior y devolverlos cuando acabe. Por buenas prácticas, cada función debe realizar una sola función (valga la redundancia). Si una sola función hace dos cosas, debería separarla en dos funciones. Es muy recomendable comentarlas utilizando lo que en python se llaman docstrings (investigad lo que es). El nombre de la función debe ser descriptiva de lo que la función hace (y no se puede empezar por mayúsculas ni por números, por convención). Son muy importantes para, por ejemplo, evitar líos de anidación de bucles o de condicionales."
   ]
  },
  {
   "attachments": {},
   "cell_type": "markdown",
   "id": "d790e2d5",
   "metadata": {},
   "source": [
    "## Ejercicio 6: Funciones\n",
    "\n",
    "Escribir una función que reciba por parámetro el nombre de una persona completo con apellidos, su edad y la fecha de hoy. LA función debe separar el nombre de los apellidos, calcular el año de nacimiento y devolver una lista del tipo: [nombre, apellidos, año de nacimiento]"
   ]
  },
  {
   "cell_type": "code",
   "execution_count": 51,
   "id": "316fbd0c",
   "metadata": {},
   "outputs": [
    {
     "data": {
      "text/plain": [
       "['erick', ['erick', 'venegas'], 2002]"
      ]
     },
     "execution_count": 51,
     "metadata": {},
     "output_type": "execute_result"
    }
   ],
   "source": [
    "def checkNum(num):\n",
    "\n",
    "    \"\"\"funcion que comprueba que se le haya pasado un numero entero y que este entre 0 y 100\"\"\"\n",
    "\n",
    "    if not isinstance(num, int):\n",
    "        return(1)\n",
    "    if num < 0 or num > 100:\n",
    "        return(1)\n",
    "    return(0)\n",
    "\n",
    "def checkStr(name):\n",
    "\n",
    "    \"\"\"esta funcion comprueba que se le haya pasado un string y que este entre 0 y 100 caracteres\"\"\"\n",
    "\n",
    "    if not isinstance(name, str):\n",
    "        return(1)\n",
    "    if len(name) < 0 or len(name) > 100:\n",
    "        return(1)\n",
    "    if(nameLen(name) >= 4):\n",
    "        return(1)\n",
    "    return(0)\n",
    "\n",
    "def nameLen(name):\n",
    "\n",
    "    \"\"\"esta funcion devuelve la cantidad de palabras que tiene el string\"\"\"\n",
    "    return(len(name.split(\" \")))\n",
    "\n",
    "def protName(name):\n",
    "\n",
    "    \"\"\"esta funcion devuelve el primer nombre del string\"\"\"\n",
    "    words = name.split(\" \")\n",
    "    result = words[0]\n",
    "    return(result)\n",
    "\n",
    "\n",
    "def protLastname(name):\n",
    "    \"\"\"esta funcion devuelve los dos ultimos apellidos del string\"\"\"\n",
    "    words = name.split(\" \")\n",
    "    result = words[-2:]\n",
    "    return result\n",
    "\n",
    "#   protData(21, 30/04/2023)\n",
    "def protData(age, data):\n",
    "\n",
    "    \"\"\"esta funcion devuelve el resultado de la multiplicacion de la edad y el dato\"\"\"\n",
    "\n",
    "    total = data.split(\"/\")\n",
    "    year = total[2]\n",
    "    result = int(year) - age\n",
    "    return(result)\n",
    "\n",
    "\n",
    "#   calculate(\"erick alexis venegas gonzalez\", 21, 30/04/2023)\n",
    "def calculate(name, age, data):\n",
    "    \"\"\"devuelve el array con los datos del nombre y apellido, si hay un error devuelve error\"\"\"\n",
    "    result = []\n",
    "\n",
    "    if checkStr(name) == 1 or checkNum(age) == 1 or checkStr(data) == 1:\n",
    "        return \"Error\"\n",
    "\n",
    "    result.append(protName(name))\n",
    "    result.append(protLastname(name))\n",
    "    result.append(protData(age, data))\n",
    "\n",
    "    return result\n",
    "\n",
    "\n",
    "\n",
    "calculate(\"erick venegas gonzalez\", 21, \"30/04/2023\")"
   ]
  }
 ],
 "metadata": {
  "kernelspec": {
   "display_name": "Python 3 (ipykernel)",
   "language": "python",
   "name": "python3"
  },
  "language_info": {
   "codemirror_mode": {
    "name": "ipython",
    "version": 3
   },
   "file_extension": ".py",
   "mimetype": "text/x-python",
   "name": "python",
   "nbconvert_exporter": "python",
   "pygments_lexer": "ipython3",
   "version": "3.10.9"
  }
 },
 "nbformat": 4,
 "nbformat_minor": 5
}
